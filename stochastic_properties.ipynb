{
 "cells": [
  {
   "cell_type": "code",
   "execution_count": null,
   "metadata": {},
   "outputs": [],
   "source": [
    "%matplotlib inline"
   ]
  },
  {
   "cell_type": "markdown",
   "metadata": {},
   "source": [
    "Introducció de les dades, funcions que separen les paraules (del llenguatge natural) i funció que dóna la seqüència de vocals, consonants i espais. Heu d'anar al directori on tingueu els textos."
   ]
  },
  {
   "cell_type": "code",
   "execution_count": null,
   "metadata": {},
   "outputs": [],
   "source": [
    "import os\n",
    "#os.chdir(\".\\\\textos\")\n",
    "os.chdir(\"C:/Users/usuari/directori\") #poseu-hi el directori on teniu els textos\n",
    "\n",
    "txt_cat = open(\"buxareu-c.txt\",\"r\",encoding=\"utf-8\").read();\n",
    "txt_cas = open(\"quijote-c.txt\",\"r\",encoding=\"utf-8\").read();\n",
    "txt_ale = open(\"buddenbrooks-c.txt\",\"r\",encoding=\"utf-8\").read();\n",
    "txt_ang = open(\"moby-dick-c.txt\",\"r\",encoding=\"utf-8\").read();\n",
    "txt_fra = open(\"miserables1-c.txt\",\"r\",encoding=\"utf-8\").read();\n",
    "txt_quijote = open(\"quijote-1.txt\",\"r\",encoding=\"utf-8\").read();\n",
    "sj=\"Setze jutges d'un jutjat mengen fetge d'un penjat.\"\n",
    "hr=\"All human beings are born free and equal in dignity and rights. They are endowed with reason and conscience and should act towards one another in a spirit of brotherhood.\"\n",
    "ae=\"Hay dos cosas que son infinitas: el universo y la estupidez humana; de la primera no estoy muy seguro.\"\n",
    "\n",
    "txt_cat_par = txt_cat.split()\n",
    "txt_cas_par = txt_cas.split()\n",
    "txt_ale_par = txt_ale.split()\n",
    "txt_ang_par = txt_ang.split()\n",
    "txt_fra_par = txt_fra.split()\n",
    "\n",
    "def vocal_consonant(txt):\n",
    "    txt = txt.replace(\"a\",\"*\"); txt = txt.replace(\"e\",\"*\"); txt = txt.replace(\"i\",\"*\"); txt = txt.replace(\"o\",\"*\");  txt = txt.replace(\"u\",\"*\");\n",
    "    txt = txt.replace(\"b\",\"c\"); txt = txt.replace(\"c\",\"c\"); txt = txt.replace(\"d\",\"c\"); txt = txt.replace(\"f\",\"c\");  txt = txt.replace(\"g\",\"c\");\n",
    "    txt = txt.replace(\"h\",\"c\"); txt = txt.replace(\"j\",\"c\"); txt = txt.replace(\"k\",\"c\"); txt = txt.replace(\"l\",\"c\");  txt = txt.replace(\"m\",\"c\");\n",
    "    txt = txt.replace(\"n\",\"c\"); txt = txt.replace(\"p\",\"c\"); txt = txt.replace(\"q\",\"c\"); txt = txt.replace(\"r\",\"c\");  txt = txt.replace(\"s\",\"c\");\n",
    "    txt = txt.replace(\"t\",\"c\"); txt = txt.replace(\"v\",\"c\"); txt = txt.replace(\"w\",\"c\"); txt = txt.replace(\"x\",\"c\");  txt = txt.replace(\"y\",\"c\");\n",
    "    txt = txt.replace(\"z\",\"c\"); txt = txt.replace(\"*\",\"v\");\n",
    "    return(txt)\n",
    "    \n",
    "txt_cat_vc = vocal_consonant(txt_cat)\n",
    "txt_cas_vc = vocal_consonant(txt_cas)\n",
    "txt_ale_vc = vocal_consonant(txt_ale)\n",
    "txt_ang_vc = vocal_consonant(txt_ang)\n",
    "txt_fra_vc = vocal_consonant(txt_fra)"
   ]
  },
  {
   "cell_type": "markdown",
   "metadata": {},
   "source": [
    "Mida dels textos, nombre de paraules i la seva longitud promig."
   ]
  },
  {
   "cell_type": "code",
   "execution_count": null,
   "metadata": {},
   "outputs": [],
   "source": [
    "len(txt_cat),len(txt_cat_par),len(txt_cat.replace(' ',''))/len(txt_cat_par)"
   ]
  },
  {
   "cell_type": "code",
   "execution_count": null,
   "metadata": {},
   "outputs": [],
   "source": [
    "len(txt_cas),len(txt_cas_par),len(txt_cas.replace(' ',''))/len(txt_cas_par)"
   ]
  },
  {
   "cell_type": "code",
   "execution_count": null,
   "metadata": {},
   "outputs": [],
   "source": [
    "len(txt_ale),len(txt_ale_par),len(txt_ale.replace(' ',''))/len(txt_ale_par)"
   ]
  },
  {
   "cell_type": "markdown",
   "metadata": {},
   "source": [
    "Funció que compta el nombre de blocs de cada mida n dins del text."
   ]
  },
  {
   "cell_type": "code",
   "execution_count": null,
   "metadata": {},
   "outputs": [],
   "source": [
    "from collections import Counter\n",
    "\n",
    "def blocs(txt,n):\n",
    "    p = txt+txt[:n-1];\n",
    "    p = dict(Counter([p[i:i+n] for i in range(len(txt))]));\n",
    "    p = [[p[x],x] for x in p]\n",
    "    p.sort()\n",
    "    return p"
   ]
  },
  {
   "cell_type": "code",
   "execution_count": null,
   "metadata": {},
   "outputs": [],
   "source": [
    "b=blocs(txt_quijote,3);b[-5:]"
   ]
  },
  {
   "cell_type": "markdown",
   "metadata": {},
   "source": [
    "Funcions que dibuixen l'histograma com a diagrama de barres.\n",
    "També hi ha la funció que dibuixa l'histograma de la variable condicionada a la lletra anterior.\n",
    "Les lletres s'han ordenat per probabilitat creixent i l'eix de les ordenades dóna el $\\%$"
   ]
  },
  {
   "cell_type": "code",
   "execution_count": null,
   "metadata": {},
   "outputs": [],
   "source": [
    "import matplotlib.pyplot as plt\n",
    "\n",
    "def histograma(txt):\n",
    "    p = blocs(txt,1);\n",
    "    num = [x[0] for x in p];\n",
    "    tot = sum(num); num = [100*x/tot for x in num];\n",
    "    par = [x[1] for x in p];\n",
    "    plt.bar(range(len(num)),num,tick_label=par)\n",
    "\n",
    "def histograma_noespais(txt):\n",
    "    p = blocs(txt,1);\n",
    "    p = [x for x in p if x[1]!=' '];\n",
    "    num = [x[0] for x in p];\n",
    "    tot = sum(num); num = [100*x/tot for x in num];\n",
    "    par = [x[1] for x in p];\n",
    "    plt.bar(range(len(num)),num,tick_label=par);\n",
    "    plt.show()\n",
    "\n",
    "def histograma_cond(txt,lletra):\n",
    "    p = blocs(txt,2);\n",
    "    p = [[x[0],x[1][1]] for x in p if x[1][0]==lletra];\n",
    "    num = [x[0] for x in p];\n",
    "    tot = sum(num); num = [100*x/tot for x in num];\n",
    "    par = [x[1] for x in p];\n",
    "    plt.bar(range(len(num)),num,tick_label=par)"
   ]
  },
  {
   "cell_type": "code",
   "execution_count": null,
   "metadata": {},
   "outputs": [],
   "source": [
    "histograma_noespais(txt_cat)"
   ]
  },
  {
   "cell_type": "code",
   "execution_count": null,
   "metadata": {},
   "outputs": [],
   "source": [
    "histograma_noespais(txt_cas)"
   ]
  },
  {
   "cell_type": "code",
   "execution_count": null,
   "metadata": {},
   "outputs": [],
   "source": [
    "histograma_noespais(txt_ale)"
   ]
  },
  {
   "cell_type": "code",
   "execution_count": null,
   "metadata": {},
   "outputs": [],
   "source": [
    "histograma_noespais(txt_ang)"
   ]
  },
  {
   "cell_type": "code",
   "execution_count": null,
   "metadata": {},
   "outputs": [],
   "source": [
    "histograma_noespais(txt_fra)"
   ]
  },
  {
   "cell_type": "code",
   "execution_count": null,
   "metadata": {},
   "outputs": [],
   "source": [
    "histograma_cond(txt_cat,'a')"
   ]
  },
  {
   "cell_type": "code",
   "execution_count": null,
   "metadata": {},
   "outputs": [],
   "source": [
    "histograma_cond(txt_cas,'a')"
   ]
  },
  {
   "cell_type": "code",
   "execution_count": null,
   "metadata": {},
   "outputs": [],
   "source": [
    "histograma_cond(txt_ale,'a')"
   ]
  },
  {
   "cell_type": "code",
   "execution_count": null,
   "metadata": {},
   "outputs": [],
   "source": [
    "histograma_cond(txt_ang,'a')"
   ]
  },
  {
   "cell_type": "code",
   "execution_count": null,
   "metadata": {},
   "outputs": [],
   "source": [
    "histograma_cond(txt_fra,'a')"
   ]
  },
  {
   "cell_type": "markdown",
   "metadata": {},
   "source": [
    "La primera funció dóna la distribució de probabilitat de la llei de Zipf: la probabilitat del resultat $k$-èsim és proporcional a l'invers de $k$, amb un paràmetre $s$ que determina aquesta probabilitat.\n",
    "Concretament, $$p(x_k)=\\frac{\\frac1{k^s}}{\\sum_{i=1}^n\\frac1{i^s}}$$\n",
    "\n",
    "Les altres dues funcions donen l'histograma de les n paraules més freqüents en un text i comparen la distribució de probabilitat corresponent amb el que correspondria a la llei de Zipf. La primera dóna una gràfica logarítmica."
   ]
  },
  {
   "cell_type": "code",
   "execution_count": null,
   "metadata": {},
   "outputs": [],
   "source": [
    "from math import log2, log\n",
    "\n",
    "def zipf(n,s,N):\n",
    "    d = sum(1/(k+1)**s for k in range(n))\n",
    "    return [(N/(n-k)**s) for k in range(n)]\n",
    "\n",
    "def histograma_paraules_log(par,n,s):\n",
    "    p = dict(Counter(par));\n",
    "    p = [[p[x],x] for x in p];\n",
    "    p.sort();\n",
    "    num = [x[0] for x in p]; num=num[-n:]\n",
    "    par = [x[1] for x in p];\n",
    "    z = zipf(n,s,num[-1]);\n",
    "    plt.plot([log(x) for x in z])\n",
    "    plt.plot([log(num[i]) for i in range(n)])\n",
    "    return par,num\n",
    "\n",
    "def histograma_paraules(par,n,s):\n",
    "    p = dict(Counter(par));\n",
    "    p = [[p[x],x] for x in p];\n",
    "    p.sort();\n",
    "    num = [x[0] for x in p]; num=num[-n:]\n",
    "    par = [x[1] for x in p];\n",
    "    z = zipf(n,s,num[-1]);\n",
    "    plt.plot([x for x in z])\n",
    "    plt.plot([num[i] for i in range(n)])\n",
    "    return sum((z[i]-num[i])**2 for i in range(n))/n\n"
   ]
  },
  {
   "cell_type": "code",
   "execution_count": null,
   "metadata": {},
   "outputs": [],
   "source": [
    "histograma_paraules(txt_cat_par,1000,.677)"
   ]
  },
  {
   "cell_type": "code",
   "execution_count": null,
   "metadata": {},
   "outputs": [],
   "source": [
    "p=dict(Counter(txt_cat_par)); p=[[p[x],x] for x in p]; p.sort(); p[-10:]"
   ]
  },
  {
   "cell_type": "code",
   "execution_count": null,
   "metadata": {},
   "outputs": [],
   "source": [
    "histograma_paraules(txt_cas_par,1000,.737)"
   ]
  },
  {
   "cell_type": "code",
   "execution_count": null,
   "metadata": {},
   "outputs": [],
   "source": [
    "p=dict(Counter(txt_cas_par)); p=[[p[x],x] for x in p]; p.sort(); p[-10:]"
   ]
  },
  {
   "cell_type": "code",
   "execution_count": null,
   "metadata": {},
   "outputs": [],
   "source": [
    "histograma_paraules(txt_ale_par,1000,.714)"
   ]
  },
  {
   "cell_type": "code",
   "execution_count": null,
   "metadata": {},
   "outputs": [],
   "source": [
    "p=dict(Counter(txt_ale_par)); p=[[p[x],x] for x in p]; p.sort(); p[-10:]"
   ]
  },
  {
   "cell_type": "code",
   "execution_count": null,
   "metadata": {},
   "outputs": [],
   "source": [
    "histograma_paraules(txt_ang_par,1000,.840)"
   ]
  },
  {
   "cell_type": "code",
   "execution_count": null,
   "metadata": {},
   "outputs": [],
   "source": [
    "p=dict(Counter(txt_ang_par)); p=[[p[x],x] for x in p]; p.sort(); p[-10:]"
   ]
  },
  {
   "cell_type": "markdown",
   "metadata": {},
   "source": [
    "Funcions per calcular probabilitats d'un bloc en un text i probabilitats condicionades d'un bloc respecte un bloc anterior"
   ]
  },
  {
   "cell_type": "code",
   "execution_count": null,
   "metadata": {},
   "outputs": [],
   "source": [
    "def prob(txt,par):\n",
    "    t = txt+txt[:len(par)-1];\n",
    "    return t.count(par)/len(txt)\n",
    "\n",
    "def taula_prob(txt):\n",
    "    return [[prob(txt,x+y) for y in ['v','c',' ']] for x in ['v','c',' ']]\n",
    "\n",
    "def cond_prob(txt,y,z):\n",
    "    w = y+z\n",
    "    t = txt+txt[:len(w)-1];\n",
    "    return t.count(w)/t.count(y)\n",
    "\n",
    "def taula_cond_prob(txt):\n",
    "    return [[cond_prob(txt,x,y) for y in ['v','c',' ']] for x in ['v','c',' ']]\n",
    "\n",
    "def taula_cond_prob2(txt):\n",
    "    return [[cond_prob(txt,x,y) for y in ['v','c',' ']] for x in ['vv','vc','cv','cc',' v',' c']]"
   ]
  },
  {
   "cell_type": "code",
   "execution_count": null,
   "metadata": {},
   "outputs": [],
   "source": [
    "taula_cond_prob(txt_cat_vc)"
   ]
  },
  {
   "cell_type": "code",
   "execution_count": null,
   "metadata": {},
   "outputs": [],
   "source": [
    "taula_cond_prob(txt_cas_vc)"
   ]
  },
  {
   "cell_type": "code",
   "execution_count": null,
   "metadata": {},
   "outputs": [],
   "source": [
    "taula_cond_prob(txt_ale_vc)"
   ]
  },
  {
   "cell_type": "code",
   "execution_count": null,
   "metadata": {},
   "outputs": [],
   "source": [
    "taula_cond_prob(txt_ang_vc)"
   ]
  },
  {
   "cell_type": "code",
   "execution_count": null,
   "metadata": {},
   "outputs": [],
   "source": [
    "taula_cond_prob(txt_fra_vc)"
   ]
  },
  {
   "cell_type": "markdown",
   "metadata": {},
   "source": [
    "Estudi del nombre de vocals i consonants seguides en cada idioma"
   ]
  },
  {
   "cell_type": "code",
   "execution_count": null,
   "metadata": {},
   "outputs": [],
   "source": [
    "[txt_cat_vc.count(5*'v'),txt_cat_vc.count(6*'c')]"
   ]
  },
  {
   "cell_type": "code",
   "execution_count": null,
   "metadata": {},
   "outputs": [],
   "source": [
    "[txt_cas_vc.count(4*'v'),txt_cas_vc.count(6*'c')]"
   ]
  },
  {
   "cell_type": "code",
   "execution_count": null,
   "metadata": {},
   "outputs": [],
   "source": [
    "[txt_ale_vc.count(5*'v'),txt_ale_vc.count(9*'c')]"
   ]
  },
  {
   "cell_type": "code",
   "execution_count": null,
   "metadata": {},
   "outputs": [],
   "source": [
    "[txt_ang_vc.count(5*'v'),txt_ang_vc.count(8*'c')]"
   ]
  },
  {
   "cell_type": "code",
   "execution_count": null,
   "metadata": {},
   "outputs": [],
   "source": [
    "[txt_fra_vc.count(6*'v'),txt_fra_vc.count(6*'c')]"
   ]
  },
  {
   "cell_type": "markdown",
   "metadata": {},
   "source": [
    "Càlcul de la longitud màxima d'una seqüència de vocals o consonants, i cerca d'un exemple en cada cas"
   ]
  },
  {
   "cell_type": "code",
   "execution_count": null,
   "metadata": {},
   "outputs": [],
   "source": [
    "[txt_cat_vc.find(4*'v'),txt_cat[2060:2075],txt_cat_vc.find(5*'c'),txt_cat[154315:154330]]"
   ]
  },
  {
   "cell_type": "code",
   "execution_count": null,
   "metadata": {},
   "outputs": [],
   "source": [
    "[txt_cas_vc.find(3*'v'),txt_cas[3985:4005],txt_cas_vc.find(5*'c'),txt_cas[1543540:1543550]]"
   ]
  },
  {
   "cell_type": "code",
   "execution_count": null,
   "metadata": {},
   "outputs": [],
   "source": [
    "[txt_ale_vc.find(4*'v'),txt_ale[21000:21020],txt_ale_vc.find(8*'c'),txt_ale[859950:859965]]"
   ]
  },
  {
   "cell_type": "code",
   "execution_count": null,
   "metadata": {},
   "outputs": [],
   "source": [
    "[txt_ang_vc.find(4*'v'),txt_ang[147240:147250],txt_ang_vc.find(7*'c'),txt_ang[650375:650390]]"
   ]
  },
  {
   "cell_type": "code",
   "execution_count": null,
   "metadata": {},
   "outputs": [],
   "source": [
    "[txt_fra_vc.find(5*'v'),txt_fra[234775:234800],txt_fra_vc.find(5*'c'),txt_fra[62400:62420]]"
   ]
  },
  {
   "cell_type": "markdown",
   "metadata": {},
   "source": [
    "Funcions per calcular el valor mínim de r tal que la variable $Z_1$ depèn de la variable $Y_r$"
   ]
  },
  {
   "cell_type": "code",
   "execution_count": null,
   "metadata": {},
   "outputs": [],
   "source": [
    "def minr(txt):\n",
    "    n = len(set(txt)); r=1;\n",
    "    t = txt+txt[:r]\n",
    "    t = [t[i:i+r+1] for i in range(len(txt))];\n",
    "    m = len(set(t));\n",
    "    while n<m:\n",
    "        r+=1;\n",
    "        n = m;\n",
    "        t = txt+txt[:r]\n",
    "        t = [t[i:i+r+1] for i in range(len(txt))];\n",
    "        m = len(set(t));\n",
    "    return r"
   ]
  },
  {
   "cell_type": "code",
   "execution_count": null,
   "metadata": {},
   "outputs": [],
   "source": [
    "minr(sj),minr(hr),minr(ae)"
   ]
  },
  {
   "cell_type": "code",
   "execution_count": null,
   "metadata": {},
   "outputs": [],
   "source": [
    "blocs(sj,6)[-1],blocs(hr,6)[-1],blocs(ae,4)[-1]"
   ]
  },
  {
   "cell_type": "code",
   "execution_count": null,
   "metadata": {},
   "outputs": [],
   "source": [
    "minr(txt_quijote)"
   ]
  },
  {
   "cell_type": "code",
   "execution_count": null,
   "metadata": {},
   "outputs": [],
   "source": [
    "blocs(txt_quijote,27)[-1]"
   ]
  },
  {
   "cell_type": "code",
   "execution_count": null,
   "metadata": {},
   "outputs": [],
   "source": [
    "minr(txt_ang)"
   ]
  },
  {
   "cell_type": "code",
   "execution_count": null,
   "metadata": {},
   "outputs": [],
   "source": [
    "blocs(txt_ang,69)[-1]"
   ]
  },
  {
   "cell_type": "markdown",
   "metadata": {},
   "source": [
    "Funció que crea un text de mida N a partir de la cadena de Markov d'ordre n determinada pel text"
   ]
  },
  {
   "cell_type": "code",
   "execution_count": null,
   "metadata": {},
   "outputs": [],
   "source": [
    "from random import choice, choices\n",
    "\n",
    "def crea_text(txt,N,n):\n",
    "    if n == 1:\n",
    "        t = ''\n",
    "        for i in range(N):\n",
    "            t += txt[choice(range(len(txt)))];\n",
    "        return t\n",
    "    p = blocs(txt,n);\n",
    "    t = choices([x[1] for x in p],[x[0] for x in p])[0];\n",
    "    while len(t) < N:\n",
    "        f = t[-n+1:];\n",
    "        pp = [x for x in p if x[1][:n-1]==f]; #print(pp)\n",
    "        t = t + choices([x[1] for x in pp],[x[0] for x in pp])[0][-1];\n",
    "    return t"
   ]
  },
  {
   "cell_type": "code",
   "execution_count": null,
   "metadata": {},
   "outputs": [],
   "source": [
    "[sj,len(sj),minr(sj)]"
   ]
  },
  {
   "cell_type": "code",
   "execution_count": null,
   "metadata": {},
   "outputs": [],
   "source": [
    "crea_text(sj,50,5)"
   ]
  },
  {
   "cell_type": "code",
   "execution_count": null,
   "metadata": {},
   "outputs": [],
   "source": [
    "[hr,len(hr),minr(hr)]"
   ]
  },
  {
   "cell_type": "code",
   "execution_count": null,
   "metadata": {},
   "outputs": [],
   "source": [
    "crea_text(hr,170,8)"
   ]
  },
  {
   "cell_type": "code",
   "execution_count": null,
   "metadata": {},
   "outputs": [],
   "source": [
    "[ae,len(ae),minr(ae)]"
   ]
  },
  {
   "cell_type": "code",
   "execution_count": null,
   "metadata": {},
   "outputs": [],
   "source": [
    "crea_text(ae,102,7)"
   ]
  },
  {
   "cell_type": "markdown",
   "metadata": {},
   "source": [
    "Per si en la versió de Python instal·lada a classe random no conté choices (la funció mychoices, basada en la funció cdf (què fa?), les he trobat a Internet)"
   ]
  },
  {
   "cell_type": "code",
   "execution_count": null,
   "metadata": {},
   "outputs": [],
   "source": [
    "import random\n",
    "import bisect\n",
    "import collections\n",
    "\n",
    "def cdf(weights):\n",
    "    total = sum(weights)\n",
    "    result = []\n",
    "    cumsum = 0\n",
    "    for w in weights:\n",
    "        cumsum += w\n",
    "        result.append(cumsum / total)\n",
    "    return result\n",
    "\n",
    "def mychoices(population, weights):\n",
    "    assert len(population) == len(weights)\n",
    "    cdf_vals = cdf(weights)\n",
    "    x = random.random()\n",
    "    idx = bisect.bisect(cdf_vals, x)\n",
    "    return population[idx]\n",
    "\n",
    "def crea_text(txt,N,n):\n",
    "    if n == 1:\n",
    "        t = ''\n",
    "        for i in range(N):\n",
    "            t += txt[choice(range(len(txt)))];\n",
    "        return t\n",
    "    p = blocs(txt,n);\n",
    "    t = mychoices([x[1] for x in p],[x[0] for x in p]);\n",
    "    while len(t) < N:\n",
    "        f = t[-n+1:];\n",
    "        pp = [x for x in p if x[1][:n-1]==f]; #print(pp)\n",
    "        t = t + mychoices([x[1] for x in pp],[x[0] for x in pp])[-1];\n",
    "    return t\n",
    "    return population[idx]"
   ]
  },
  {
   "cell_type": "markdown",
   "metadata": {},
   "source": [
    "Funcions per a calcular entropies"
   ]
  },
  {
   "cell_type": "code",
   "execution_count": null,
   "metadata": {},
   "outputs": [],
   "source": [
    "def ent(txt,n):\n",
    "    p = blocs(txt,n); p = [x[0] for x in p];\n",
    "    w = sum(x for x in p);\n",
    "    H = sum(x/w*log2(w/x) for x in p);\n",
    "    return H\n",
    "\n",
    "def ent_dist(dist):\n",
    "    p = [x for x in dist if x>0]\n",
    "    w = sum(x for x in p);\n",
    "    H = sum(x/w*log2(w/x) for x in p);\n",
    "    return H\n",
    "\n",
    "def cent(txt,r,s):\n",
    "    return ent(txt,r+s)-ent(txt,r)\n",
    "\n",
    "def cent_par(txt,s,par):\n",
    "    r = len(par);\n",
    "    p = blocs(txt,r+s);\n",
    "    p = [[x[0],x[1][1]] for x in p if x[1][0:r]==par];\n",
    "    p = [x[0] for x in p];\n",
    "    w = sum(x for x in p);\n",
    "    H = sum(x/w*log2(w/x) for x in p);\n",
    "    return H\n",
    "\n",
    "def source_fromtext(txt):\n",
    "    src = [[txt.count(a),a] for a in set(txt)]; src.sort();\n",
    "    return src;\n",
    "\n",
    "def entropy_source(src):\n",
    "    w = sum(s[1] for s in src);\n",
    "    H = sum(s[1]/w*log2(w/s[1]) for s in src);\n",
    "    return H;\n"
   ]
  },
  {
   "cell_type": "code",
   "execution_count": null,
   "metadata": {},
   "outputs": [],
   "source": [
    "[ent(txt_cat,i)/i for i in range(1,11)]"
   ]
  },
  {
   "cell_type": "code",
   "execution_count": null,
   "metadata": {},
   "outputs": [],
   "source": [
    "[ent(txt_cas,i)/i for i in range(1,11)]"
   ]
  },
  {
   "cell_type": "code",
   "execution_count": null,
   "metadata": {},
   "outputs": [],
   "source": [
    "[ent(txt_ale,i)/i for i in range(1,11)]"
   ]
  },
  {
   "cell_type": "code",
   "execution_count": null,
   "metadata": {},
   "outputs": [],
   "source": [
    "[ent(txt_ang,i)/i for i in range(1,11)]"
   ]
  },
  {
   "cell_type": "code",
   "execution_count": null,
   "metadata": {},
   "outputs": [],
   "source": [
    "[cent(txt_cat,r,1) for r in range(1,11)]"
   ]
  },
  {
   "cell_type": "code",
   "execution_count": null,
   "metadata": {},
   "outputs": [],
   "source": [
    "[cent(txt_cas,r,1) for r in range(1,11)]"
   ]
  },
  {
   "cell_type": "code",
   "execution_count": null,
   "metadata": {},
   "outputs": [],
   "source": [
    "cent_par(txt_ale,10,\" \")"
   ]
  }
 ],
 "metadata": {
  "kernelspec": {
   "display_name": "Python 3",
   "language": "python",
   "name": "python3"
  },
  "language_info": {
   "codemirror_mode": {
    "name": "ipython",
    "version": 3
   },
   "file_extension": ".py",
   "mimetype": "text/x-python",
   "name": "python",
   "nbconvert_exporter": "python",
   "pygments_lexer": "ipython3",
   "version": "3.6.5"
  }
 },
 "nbformat": 4,
 "nbformat_minor": 2
}
